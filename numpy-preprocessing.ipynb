{
  "nbformat": 4,
  "nbformat_minor": 0,
  "metadata": {
    "colab": {
      "provenance": []
    },
    "kernelspec": {
      "name": "python3",
      "display_name": "Python 3"
    },
    "language_info": {
      "name": "python"
    }
  },
  "cells": [
    {
      "cell_type": "markdown",
      "source": [
        "\n",
        "\n",
        "\n",
        "# Creating NumPy Arrays\n"
      ],
      "metadata": {
        "id": "0pMZQ6ecGe-a"
      }
    },
    {
      "cell_type": "markdown",
      "source": [
        "1. *Check version and create arrays:*"
      ],
      "metadata": {
        "id": "u-KH3ZKEGprL"
      }
    },
    {
      "cell_type": "code",
      "execution_count": 5,
      "metadata": {
        "colab": {
          "base_uri": "https://localhost:8080/",
          "height": 0
        },
        "id": "_BBLfBMCGTyc",
        "outputId": "4ac96f3d-7190-41bb-885d-44e783c40c37"
      },
      "outputs": [
        {
          "output_type": "stream",
          "name": "stdout",
          "text": [
            "1.26.4\n"
          ]
        }
      ],
      "source": [
        "import numpy as np\n",
        "print(np.__version__)  # Check version\n",
        "\n",
        "# Create 1D array\n",
        "arr_1d = np.array([1, 2, 3])\n",
        "\n",
        "# Create 2D array\n",
        "arr_2d = np.array([[1, 2, 3], [4, 5, 6]])\n"
      ]
    },
    {
      "cell_type": "markdown",
      "source": [
        "2. Check data type and dimensions:"
      ],
      "metadata": {
        "id": "tmuiIm7YGbAA"
      }
    },
    {
      "cell_type": "code",
      "source": [
        "print(arr_1d.dtype, arr_1d.ndim)  # Data type and dimensions of 1D array\n",
        "print(arr_2d.dtype, arr_2d.ndim)  # Data type and dimensions of 2D array"
      ],
      "metadata": {
        "colab": {
          "base_uri": "https://localhost:8080/",
          "height": 0
        },
        "id": "scUVwCOeGakF",
        "outputId": "eebeaa53-71ee-45a4-a860-9a91a822c118"
      },
      "execution_count": 6,
      "outputs": [
        {
          "output_type": "stream",
          "name": "stdout",
          "text": [
            "int64 1\n",
            "int64 2\n"
          ]
        }
      ]
    },
    {
      "cell_type": "markdown",
      "source": [
        "3. *Find the size of elements and shape:*"
      ],
      "metadata": {
        "id": "07zPsg-wHPu6"
      }
    },
    {
      "cell_type": "code",
      "source": [
        "print(arr_1d.itemsize)  # Size of each element\n",
        "print(arr_2d.shape)     # Shape of 2D array"
      ],
      "metadata": {
        "colab": {
          "base_uri": "https://localhost:8080/",
          "height": 0
        },
        "id": "qO12Lz2dHUqV",
        "outputId": "05c4ee0a-e8f9-4d27-cdb1-18a204c487ac"
      },
      "execution_count": 7,
      "outputs": [
        {
          "output_type": "stream",
          "name": "stdout",
          "text": [
            "8\n",
            "(2, 3)\n"
          ]
        }
      ]
    },
    {
      "cell_type": "markdown",
      "source": [
        "4. *Reshape array:*"
      ],
      "metadata": {
        "id": "gEZGxRpTHYgF"
      }
    },
    {
      "cell_type": "code",
      "source": [
        "arr = np.array([[1, 2, 3], [4, 5, 6]])\n",
        "reshaped_arr = arr.reshape(3, 2)"
      ],
      "metadata": {
        "id": "KX9OI5ClHeFU"
      },
      "execution_count": 8,
      "outputs": []
    },
    {
      "cell_type": "markdown",
      "source": [
        "\n",
        "\n",
        ">Slicing of Arrays\n"
      ],
      "metadata": {
        "id": "ul56vU3-Hg-L"
      }
    },
    {
      "cell_type": "markdown",
      "source": [
        "1.* 1D slicing:*"
      ],
      "metadata": {
        "id": "Ad11fZkzHsRo"
      }
    },
    {
      "cell_type": "code",
      "source": [
        "arr = np.array([4, 5, 6, 3, 9, 7])\n",
        "sliced_arr = arr[2:5]  # [6, 3, 9]"
      ],
      "metadata": {
        "id": "aVAG5uJfHyTK"
      },
      "execution_count": 9,
      "outputs": []
    },
    {
      "cell_type": "markdown",
      "source": [
        "2. 2D slicing:"
      ],
      "metadata": {
        "id": "UOIeygM6H0Wu"
      }
    },
    {
      "cell_type": "code",
      "source": [
        "arr_2d = np.array([[1, 2, 3], [4, 5, 6]])\n",
        "sliced_2d = arr_2d[0, :2]  # [[1, 2]]"
      ],
      "metadata": {
        "id": "cEPXtT1AH8LO"
      },
      "execution_count": 10,
      "outputs": []
    },
    {
      "cell_type": "markdown",
      "source": [
        "# Join and Splitting Arrays"
      ],
      "metadata": {
        "id": "KqD753O9H_VP"
      }
    },
    {
      "cell_type": "markdown",
      "source": [
        "1. *Concatenate arrays:*"
      ],
      "metadata": {
        "id": "7OavCUHGIFDX"
      }
    },
    {
      "cell_type": "code",
      "source": [
        "arr1 = np.array([4, 5, 6, 7])\n",
        "arr2 = np.array([3, 4, 1])\n",
        "concatenated = np.concatenate((arr1, arr2))"
      ],
      "metadata": {
        "id": "oBX1xHZYII6J"
      },
      "execution_count": 11,
      "outputs": []
    },
    {
      "cell_type": "markdown",
      "source": [
        "2. *Split arrays:*"
      ],
      "metadata": {
        "id": "T1zM1w_cIOeD"
      }
    },
    {
      "cell_type": "code",
      "source": [
        "arr_split = np.array([4, 5, 6, 3, 9])\n",
        "split_arrs = np.array_split(arr_split, 3)"
      ],
      "metadata": {
        "id": "nNfGnQXiIR10"
      },
      "execution_count": 12,
      "outputs": []
    },
    {
      "cell_type": "markdown",
      "source": [
        "# Searching in Arrays"
      ],
      "metadata": {
        "id": "HiXMhWL0IbXA"
      }
    },
    {
      "cell_type": "markdown",
      "source": [
        "1. *Find indices of element 4:*"
      ],
      "metadata": {
        "id": "FdcbSKIsIliz"
      }
    },
    {
      "cell_type": "code",
      "source": [
        "arr = np.array([1, 2, 3, 4, 5, 4, 4])\n",
        "indices = np.where(arr == 4)"
      ],
      "metadata": {
        "id": "d4UpQCBrIqsG"
      },
      "execution_count": 13,
      "outputs": []
    },
    {
      "cell_type": "markdown",
      "source": [
        "# Sorting Arrays"
      ],
      "metadata": {
        "id": "Z9Vof8mbIeCF"
      }
    },
    {
      "cell_type": "markdown",
      "source": [
        "1. *Sort in ascending and descending order*"
      ],
      "metadata": {
        "id": "hpLU_daNIvqK"
      }
    },
    {
      "cell_type": "code",
      "source": [
        "arr = np.array([6, 5, 1, 2, 9, 10, 36, 7])\n",
        "sorted_arr = np.sort(arr)           # Ascending\n",
        "sorted_arr_desc = np.sort(arr)[::-1]  # Descending\n"
      ],
      "metadata": {
        "id": "JHiqziEfI1AP"
      },
      "execution_count": 14,
      "outputs": []
    },
    {
      "cell_type": "markdown",
      "source": [
        "# Random Number Generation"
      ],
      "metadata": {
        "id": "zJuSgt6XI0db"
      }
    },
    {
      "cell_type": "markdown",
      "source": [
        "1. Generate random arrays:"
      ],
      "metadata": {
        "id": "ecN7sYKPI8EO"
      }
    },
    {
      "cell_type": "code",
      "source": [
        "random_int = np.random.randint(0, 20, 6)  # 1D array with random integers\n",
        "random_float = np.random.rand(5)          # 1D array with random floats"
      ],
      "metadata": {
        "id": "DdcTMONQJAvV"
      },
      "execution_count": 15,
      "outputs": []
    }
  ]
}